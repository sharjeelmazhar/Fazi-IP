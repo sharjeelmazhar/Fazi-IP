{
 "cells": [
  {
   "cell_type": "markdown",
   "metadata": {},
   "source": [
    "# Importing Modules"
   ]
  },
  {
   "cell_type": "code",
   "execution_count": null,
   "metadata": {},
   "outputs": [],
   "source": [
    "import numpy as np\n",
    "import matplotlib.pyplot as plt\n",
    "import random\n",
    "\n",
    "from sklearn.model_selection import train_test_split\n",
    "from sklearn.neighbors import KNeighborsClassifier\n",
    "from sklearn.model_selection import GridSearchCV\n",
    "from sklearn.metrics import accuracy_score\n",
    "from datetime import datetime\n",
    "import joblib\n",
    "from tqdm import tqdm"
   ]
  },
  {
   "cell_type": "markdown",
   "metadata": {},
   "source": [
    "# Loading Data from storage"
   ]
  },
  {
   "cell_type": "code",
   "execution_count": null,
   "metadata": {},
   "outputs": [],
   "source": [
    "data=np.load('mnist_train_data.npy')\n",
    "labels=np.load('mnist_train_labels.npy')"
   ]
  },
  {
   "cell_type": "markdown",
   "metadata": {},
   "source": [
    "## Checking shape of data"
   ]
  },
  {
   "cell_type": "code",
   "execution_count": null,
   "metadata": {},
   "outputs": [],
   "source": [
    "data.shape"
   ]
  },
  {
   "cell_type": "code",
   "execution_count": null,
   "metadata": {},
   "outputs": [],
   "source": [
    "labels.shape"
   ]
  },
  {
   "cell_type": "markdown",
   "metadata": {},
   "source": [
    "# Plotting data"
   ]
  },
  {
   "cell_type": "code",
   "execution_count": null,
   "metadata": {},
   "outputs": [],
   "source": [
    "\n",
    "\n",
    "# Create the figure and subplots\n",
    "fig, axes = plt.subplots(2, 5, figsize=(12, 12))\n",
    "random_range = random.sample(range(len(data)), 10) \n",
    "# Iterate through random indices and display images\n",
    "for counter, random_index in enumerate(random_range, 0):\n",
    "    ax = axes.flat[counter]  # Access subplot using flattened array\n",
    "    ax.imshow(data[random_index], cmap='gray')\n",
    "    ax.set_title(f\"Image {random_index + 1} - Label: {labels[random_index]}\")\n",
    "    ax.axis(\"off\")\n",
    "\n",
    "# Show the plot\n",
    "plt.tight_layout()\n",
    "plt.show()"
   ]
  },
  {
   "cell_type": "code",
   "execution_count": null,
   "metadata": {},
   "outputs": [],
   "source": [
    " # Choose a random image\n"
   ]
  },
  {
   "cell_type": "markdown",
   "metadata": {},
   "source": [
    "## Visualizing image in pixel values "
   ]
  },
  {
   "cell_type": "code",
   "execution_count": null,
   "metadata": {},
   "outputs": [],
   "source": [
    "def print_pixelated_image(image:list):\n",
    "\n",
    "    # Print the image data as a 2D matrix\n",
    "    for row in image:\n",
    "        for pixel in row:\n",
    "            # Format the pixel value for printing\n",
    "            value_str = f\"{pixel:3}\"  # Adjust spacing as needed\n",
    "            print(value_str, end=\" \")\n",
    "        print()\n",
    "        \n",
    "\n",
    "# Select a random image index\n",
    "image_index = np.random.randint(0, 60000) \n",
    "\n",
    "# Extract the image data\n",
    "image = data[image_index]\n",
    "print(f'Label {labels[image_index]}')\n",
    "print_pixelated_image(image=image)"
   ]
  },
  {
   "cell_type": "markdown",
   "metadata": {},
   "source": [
    "# Question 1"
   ]
  },
  {
   "cell_type": "code",
   "execution_count": null,
   "metadata": {},
   "outputs": [],
   "source": [
    "# Step 1: Count of each class in the original dataset\n",
    "class_counts = {label: np.sum(labels == label) for label in range(10)}\n",
    "\n",
    "# Step 2: Train-Test Split with uniform distribution\n",
    "X_train, X_test, y_train, y_test = train_test_split(data, labels, test_size=0.2, stratify=labels, random_state=42)\n",
    "\n",
    "# Step 3: Count of each class in the train set\n",
    "train_class_counts = {label: np.sum(y_train == label) for label in range(10)}\n",
    "\n",
    "# Step 4: Count of each class in the test set\n",
    "test_class_counts = {label: np.sum(y_test == label) for label in range(10)}\n",
    "\n",
    "# Displaying the results\n",
    "print(\"Original Class Counts:\", class_counts)\n",
    "print(\"\\nTrain Set Class Counts:\", train_class_counts)\n",
    "print(\"\\nTest Set Class Counts:\", test_class_counts)\n"
   ]
  },
  {
   "cell_type": "markdown",
   "metadata": {},
   "source": [
    "## Stacking columns of each image to vectorize"
   ]
  },
  {
   "cell_type": "code",
   "execution_count": null,
   "metadata": {},
   "outputs": [],
   "source": [
    "X_train = np.array([sample.flatten(order='F') for sample in X_train])\n",
    "X_test=np.array([sample.flatten(order='F') for sample in X_test])"
   ]
  },
  {
   "cell_type": "markdown",
   "metadata": {},
   "source": [
    "## Checking is the data is properly splitted"
   ]
  },
  {
   "cell_type": "code",
   "execution_count": null,
   "metadata": {},
   "outputs": [],
   "source": [
    "index=23768\n",
    "print(y_train[index])\n",
    "print_pixelated_image(X_train[index].reshape(28,28).T)"
   ]
  },
  {
   "cell_type": "markdown",
   "metadata": {},
   "source": [
    "# Question 2 - KNN"
   ]
  },
  {
   "cell_type": "code",
   "execution_count": null,
   "metadata": {},
   "outputs": [],
   "source": [
    "# Step 1: Define the kNN model\n",
    "knn_model = KNeighborsClassifier(metric='euclidean')\n",
    "\n",
    "# Step 2: Define the parameter grid for cross-validation\n",
    "param_grid = {'n_neighbors': np.arange(1, 21)}  # Testing k values from 1 to 20\n",
    "\n",
    "# Step 3: Perform cross-validation grid search\n",
    "grid_search = GridSearchCV(knn_model, param_grid, cv=5)  # 5-fold cross-validation\n",
    "grid_search.fit(X_train, y_train)\n",
    "\n",
    "# Step 4: Get the best k value\n",
    "best_k = grid_search.best_params_['n_neighbors']\n",
    "print(\"Best k:\", best_k)\n",
    "\n",
    "# Step 5: Train the final kNN model using the best k on the entire training dataset\n",
    "final_knn_model = KNeighborsClassifier(n_neighbors=best_k, metric='euclidean')\n",
    "final_knn_model.fit(X_train, y_train)\n",
    "\n",
    "# Step 6: Save the final model to disk with a unique name\n",
    "timestamp = datetime.now().strftime(\"%Y%m%d_%H%M%S\")\n",
    "model_filename = f'knn_model_{best_k}_{timestamp}.joblib'\n",
    "joblib.dump(final_knn_model, model_filename)\n",
    "print(f\"Final model saved as '{model_filename}'\")\n",
    "\n",
    "# Step 7: Evaluate the final model on the test dataset\n",
    "y_test_predictions = final_knn_model.predict(X_test)\n",
    "accuracy = accuracy_score(y_test, y_test_predictions)\n",
    "print(\"Test Accuracy with k =\", best_k, \":\", accuracy)\n",
    "print(f\"Error rate = {1-accuracy}\")"
   ]
  },
  {
   "cell_type": "markdown",
   "metadata": {},
   "source": [
    "## Visulizing function of k wrt accuracy"
   ]
  },
  {
   "cell_type": "code",
   "execution_count": null,
   "metadata": {},
   "outputs": [],
   "source": [
    "# cSpell: ignore linestyle vlines xlabel ylabel xticks\n",
    "\n",
    "# Your existing code\n",
    "mean_scores = grid_search.cv_results_['mean_test_score']\n",
    "k_values = param_grid.get('n_neighbors', 'Not found')\n",
    "plt.plot(k_values, mean_scores, marker='o')\n",
    "\n",
    "# Calculate ymin as a bit below the minimum of mean_scores\n",
    "ymin = min(mean_scores) - 0.001  # Adjust this value as needed\n",
    "\n",
    "# Add vertical lines\n",
    "for k, score in zip(k_values, mean_scores):\n",
    "    plt.vlines(x=k, ymin=ymin, ymax=score, color='red', linestyle='--')\n",
    "plt.title('kNN Performance vs k Value')\n",
    "plt.xlabel('k Value')\n",
    "plt.ylabel('Mean Cross-Validation Accuracy')\n",
    "plt.xticks(k_values)  # Set custom x-axis ticks\n",
    "plt.grid(False)  # Set to False to remove grid lines\n",
    "plt.show()\n"
   ]
  },
  {
   "cell_type": "markdown",
   "metadata": {},
   "source": [
    "# Question 3 - Non-Linear SVM with polynomial kernel"
   ]
  },
  {
   "cell_type": "code",
   "execution_count": null,
   "metadata": {},
   "outputs": [],
   "source": []
  }
 ],
 "metadata": {
  "kernelspec": {
   "display_name": "fazi",
   "language": "python",
   "name": "python3"
  },
  "language_info": {
   "codemirror_mode": {
    "name": "ipython",
    "version": 3
   },
   "file_extension": ".py",
   "mimetype": "text/x-python",
   "name": "python",
   "nbconvert_exporter": "python",
   "pygments_lexer": "ipython3",
   "version": "3.12.1"
  }
 },
 "nbformat": 4,
 "nbformat_minor": 2
}
